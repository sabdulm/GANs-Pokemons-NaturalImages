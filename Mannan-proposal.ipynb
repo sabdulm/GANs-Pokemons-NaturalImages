{
 "cells": [
  {
   "cell_type": "markdown",
   "metadata": {},
   "source": [
    "$\\newcommand{\\xv}{\\mathbf{x}}\n",
    "\\newcommand{\\Xv}{\\mathbf{X}}\n",
    "\\newcommand{\\yv}{\\mathbf{y}}\n",
    "\\newcommand{\\zv}{\\mathbf{z}}\n",
    "\\newcommand{\\av}{\\mathbf{a}}\n",
    "\\newcommand{\\Wv}{\\mathbf{W}}\n",
    "\\newcommand{\\wv}{\\mathbf{w}}\n",
    "\\newcommand{\\tv}{\\mathbf{t}}\n",
    "\\newcommand{\\Tv}{\\mathbf{T}}\n",
    "\\newcommand{\\muv}{\\boldsymbol{\\mu}}\n",
    "\\newcommand{\\sigmav}{\\boldsymbol{\\sigma}}\n",
    "\\newcommand{\\phiv}{\\boldsymbol{\\phi}}\n",
    "\\newcommand{\\Phiv}{\\boldsymbol{\\Phi}}\n",
    "\\newcommand{\\Sigmav}{\\boldsymbol{\\Sigma}}\n",
    "\\newcommand{\\Lambdav}{\\boldsymbol{\\Lambda}}\n",
    "\\newcommand{\\half}{\\frac{1}{2}}\n",
    "\\newcommand{\\argmax}[1]{\\underset{#1}{\\operatorname{argmax}}}\n",
    "\\newcommand{\\argmin}[1]{\\underset{#1}{\\operatorname{argmin}}}$"
   ]
  },
  {
   "cell_type": "markdown",
   "metadata": {},
   "source": [
    "# Project Proposal for CS445"
   ]
  },
  {
   "cell_type": "markdown",
   "metadata": {},
   "source": [
    "Sheikh Mannan"
   ]
  },
  {
   "cell_type": "markdown",
   "metadata": {},
   "source": [
    "## Introduction"
   ]
  },
  {
   "cell_type": "markdown",
   "metadata": {},
   "source": [
    "The main focus of this project will be Generative Adversarial Networks(GANs).\n",
    "\n",
    "The following are the goals of the project:\n",
    "\n",
    "   * Develop a GAN model using Pytorch or TensorFlow that can generate images. What we aim to observe is how a GAN works? How long does it take for a GAN to generate outputs that resemble the input data? Is there a way to test the accuracy/precision of a GAN? To train the model the following datasets will be used:\n",
    "        * MNIST Dataset\n",
    "        * Pokemon Image Dataset (https://www.kaggle.com/kvpratama/pokemon-images-dataset)\n",
    "        * (tentative) Natural Image Dataset (https://www.kaggle.com/prasunroy/natural-images)\n",
    "\n",
    "      \n",
    "   * Download, run and understand the implementation of \"StackGAN: Text to Photo-realistic Image Synthesis with Stacked Generative Adversarial Networks\" by Han Zhang, Tao Xu, Hongsheng Li, Shaoting Zhang, Xiaogang Wang, Xiaolei Huang, Dimitris Metaxas.\n",
    "        * In this paper, the authors come up with a method that is able to produce a series of images given an input sentence. The images generated are basically visually describing what the input sentence had said. As an input  to the model, they have created various text embeddings and relevant images.\n",
    "        * If time permits, create a new dataset with the relevant images and text embeddings for the to use.\n",
    "        * We aim to understand how exactly does a GAN take textual data as input and provide image data as output. Furthermore, how realistic is the \"Text to Photo-realistic Image Synthesis\" by creating new input datasets."
   ]
  },
  {
   "cell_type": "markdown",
   "metadata": {},
   "source": [
    "## Methods"
   ]
  },
  {
   "cell_type": "markdown",
   "metadata": {},
   "source": [
    "Explain why you wish to do the proposed project and the steps you will take to complete the project. Describe the methods you will use.  What are the sources of code or data?  Will you define new algorithms and/or implementations, or download ones from an on-line source?\n",
    "\n",
    "GANs are a type of machine learning models that we have not covered in class, it would be interesting to see how exactly these networks works by taking text or images as input and magically generating new text and/or images. \n",
    "\n",
    "The project can be divided into 2 parts:\n",
    "\n",
    "#### Part 1: Developing our own GAN model to generate images\n",
    "\n",
    "* Implement the GAN model using pytorch, tensorflow or keras. We will use the simplest definition of a GAN with a default Generator and Discriminator in our implementation.\n",
    "* Train the model given a dataset and observe the outcome\n",
    "* Compare for what type of input images is the GAN model better able to generate a new image that mostly resembles some of the input.\n",
    "* To test some of output, we could pass it through a Convolutional Neural Network classifier to see if it is able to predict a label for any of output images. This can be done using the MNIST dataset.\n",
    "\n",
    "#### Part 2: Downloading and running StackGAN\n",
    "\n",
    "* Download and run the implementation form [https://github.com/hanzhanggit/StackGAN-Pytorch]\n",
    "* Understand how exactly it works and compare it to similar implementations if found\n",
    "* Using one of the above datasets used in part 1, create a new dataset as input to StackGAN"
   ]
  },
  {
   "cell_type": "markdown",
   "metadata": {},
   "source": [
    "## Possible Results\n",
    "\n",
    "#### Part 1\n",
    "\n",
    "* We will provide the generated images of the GAN, as well training times for the GAN as to how long it takes to produce a realistic image. We can also vary factors such as number of epochs or activation functions to see differences in the result. Gifs can also be provided to see the generated output at every step of the model's training to see how the image changes/evolves with time. \n",
    "\n",
    "#### Part 2\n",
    "\n",
    "* Provide a sample output of the provided code with their dataset.\n",
    "* Run the same experiment as above on a dataset assembled by us. \n",
    "* A small summary of how exactly does the StackGAN implementation work.\n"
   ]
  },
  {
   "cell_type": "markdown",
   "metadata": {},
   "source": [
    "## Timeline\n",
    "\n",
    "* 4/15/2021 - Implement the GAN model\n",
    "* 4/21/2021 - Produce output results for Part 1 of the project\n",
    "* 4/28/2021 - Reproduce a sample output by running the StackGAN implementation\n",
    "* 5/05/2021 - Understand and summarize the workings of the model. And assemble a new dataset as input for StackGAN."
   ]
  }
 ],
 "metadata": {
  "kernelspec": {
   "display_name": "Python 3",
   "language": "python",
   "name": "python3"
  },
  "language_info": {
   "codemirror_mode": {
    "name": "ipython",
    "version": 3
   },
   "file_extension": ".py",
   "mimetype": "text/x-python",
   "name": "python",
   "nbconvert_exporter": "python",
   "pygments_lexer": "ipython3",
   "version": "3.8.3"
  },
  "toc": {
   "base_numbering": 1,
   "nav_menu": {},
   "number_sections": true,
   "sideBar": true,
   "skip_h1_title": false,
   "title_cell": "Table of Contents",
   "title_sidebar": "Contents",
   "toc_cell": false,
   "toc_position": {},
   "toc_section_display": true,
   "toc_window_display": false
  }
 },
 "nbformat": 4,
 "nbformat_minor": 1
}
